{
 "cells": [
  {
   "cell_type": "code",
   "execution_count": 1,
   "metadata": {},
   "outputs": [
    {
     "name": "stdout",
     "output_type": "stream",
     "text": [
      "Removed first row from samples (1).csv and saved to samples (1).csv\n",
      "Removed first row from samples (2).csv and saved to samples (2).csv\n",
      "Removed first row from samples (3).csv and saved to samples (3).csv\n",
      "Removed first row from samples (4).csv and saved to samples (4).csv\n",
      "Removed first row from samples (5).csv and saved to samples (5).csv\n",
      "Removed first row from samples (6).csv and saved to samples (6).csv\n",
      "Removed first row from samples (7).csv and saved to samples (7).csv\n",
      "Removed first row from samples (8).csv and saved to samples (8).csv\n",
      "Removed first row from samples (9).csv and saved to samples (9).csv\n",
      "Removed first row from samples (10).csv and saved to samples (10).csv\n",
      "Removed first row from samples (11).csv and saved to samples (11).csv\n",
      "Removed first row from samples (12).csv and saved to samples (12).csv\n",
      "Removed first row from samples (13).csv and saved to samples (13).csv\n",
      "Removed first row from samples (14).csv and saved to samples (14).csv\n",
      "Removed first row from samples (15).csv and saved to samples (15).csv\n",
      "Removed first row from samples (16).csv and saved to samples (16).csv\n",
      "Removed first row from samples (17).csv and saved to samples (17).csv\n"
     ]
    }
   ],
   "source": [
    "import pandas as pd\n",
    "\n",
    "for i in range(1, 18):\n",
    "    input_file = f'samples ({i}).csv'\n",
    "    output_file = f'samples ({i}).csv'\n",
    "\n",
    "    # Read the CSV file\n",
    "    df = pd.read_csv(input_file)\n",
    "\n",
    "    # Remove the first row\n",
    "    df = df.iloc[1:]\n",
    "    # Keep only 'ML2' and 'Elapsed time' columns\n",
    "    df = df[[\"'Elapsed time'\",\"'ECG'\"]]\n",
    "    # Save the modified DataFrame to a new CSV file\n",
    "    df = df.rename(columns={\"'ECG'\": 'signal', \"'Elapsed time'\": 'time'})\n",
    "\n",
    "    df.to_csv(output_file, index=False)\n",
    "\n",
    "    print(f'Removed first row from {input_file} and saved to {output_file}')\n"
   ]
  },
  {
   "cell_type": "code",
   "execution_count": null,
   "metadata": {},
   "outputs": [],
   "source": [
    "import csv\n",
    "import os\n",
    "\n",
    "def add_row_to_csv(csv_file, new_row):\n",
    "    # Read existing data from the CSV file\n",
    "    with open(csv_file, 'r') as file:\n",
    "        reader = csv.reader(file)\n",
    "        data = list(reader)\n",
    "\n",
    "    # Add the new row\n",
    "    data.append(new_row)\n",
    "\n",
    "    # Write the modified data back to the CSV file\n",
    "    with open(csv_file, 'w', newline='') as file:\n",
    "        writer = csv.writer(file)\n",
    "        writer.writerows(data)\n",
    "\n",
    "if __name__ == \"__main__\":\n",
    "    # Specify the new row to be added\n",
    "    new_row = [60, -0.8]\n",
    "\n",
    "    # Iterate through all CSV files with names like \"samples (i).csv\"\n",
    "    for i in range(1, 19):\n",
    "        csv_file = f'mmmsamples ({i}).csv'\n",
    "\n",
    "        # Check if the file exists before attempting to add a row\n",
    "        if os.path.exists(csv_file):\n",
    "            add_row_to_csv(csv_file, new_row)\n",
    "            print(f'Added row {new_row} to {csv_file}')\n",
    "        else:\n",
    "            print(f'File {csv_file} not found. Skipping...')\n"
   ]
  }
 ],
 "metadata": {
  "kernelspec": {
   "display_name": "Python 3",
   "language": "python",
   "name": "python3"
  },
  "language_info": {
   "codemirror_mode": {
    "name": "ipython",
    "version": 3
   },
   "file_extension": ".py",
   "mimetype": "text/x-python",
   "name": "python",
   "nbconvert_exporter": "python",
   "pygments_lexer": "ipython3",
   "version": "3.9.6"
  }
 },
 "nbformat": 4,
 "nbformat_minor": 2
}
