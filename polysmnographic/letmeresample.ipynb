{
 "cells": [
  {
   "cell_type": "code",
   "execution_count": 2,
   "metadata": {},
   "outputs": [],
   "source": [
    "import pandas as pd\n",
    "\n",
    "# Read CSV file\n",
    "df = pd.read_csv('samples (1).csv')\n",
    "\n",
    "# Assuming your signal is in a column named 'signal' and another column 'time'\n",
    "time = df[\"'Elapsed time'\"]\n",
    "signal = df[\"'ECG'\"]"
   ]
  },
  {
   "cell_type": "code",
   "execution_count": 3,
   "metadata": {},
   "outputs": [],
   "source": [
    "from scipy.interpolate import interp1d\n",
    "import numpy as np\n",
    "# Define the old and new sampling frequencies\n",
    "old_sampling_rate = 250\n",
    "new_sampling_rate = 128\n",
    "\n",
    "# Calculate the corresponding time points for the new sampling rate\n",
    "new_time = np.arange(time.min(), time.max(), 1/new_sampling_rate)\n",
    "\n",
    "# Interpolate the signal to the new time points\n",
    "resampled_signal = interp1d(time, signal, kind='linear')(new_time)"
   ]
  },
  {
   "cell_type": "code",
   "execution_count": null,
   "metadata": {},
   "outputs": [],
   "source": [
    "resampled_df = pd.DataFrame({'time': new_time, 'resampled_signal': resampled_signal})\n",
    "resampled_df.to_csv('resampled_signal.csv', index=False)"
   ]
  }
 ],
 "metadata": {
  "kernelspec": {
   "display_name": "Python 3",
   "language": "python",
   "name": "python3"
  },
  "language_info": {
   "codemirror_mode": {
    "name": "ipython",
    "version": 3
   },
   "file_extension": ".py",
   "mimetype": "text/x-python",
   "name": "python",
   "nbconvert_exporter": "python",
   "pygments_lexer": "ipython3",
   "version": "3.9.6"
  }
 },
 "nbformat": 4,
 "nbformat_minor": 2
}
