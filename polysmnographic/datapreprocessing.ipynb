{
 "cells": [
  {
   "cell_type": "code",
   "execution_count": 1,
   "metadata": {},
   "outputs": [],
   "source": [
    "import pandas as pd\n",
    "import numpy as np\n"
   ]
  },
  {
   "cell_type": "code",
   "execution_count": 2,
   "metadata": {},
   "outputs": [
    {
     "name": "stdout",
     "output_type": "stream",
     "text": [
      "Conversion for samples (1) completed. CSV file saved as samples_converted_1.csv\n",
      "Conversion for samples (2) completed. CSV file saved as samples_converted_2.csv\n",
      "Conversion for samples (3) completed. CSV file saved as samples_converted_3.csv\n",
      "Conversion for samples (4) completed. CSV file saved as samples_converted_4.csv\n",
      "Conversion for samples (5) completed. CSV file saved as samples_converted_5.csv\n",
      "Conversion for samples (6) completed. CSV file saved as samples_converted_6.csv\n",
      "Conversion for samples (7) completed. CSV file saved as samples_converted_7.csv\n",
      "Conversion for samples (8) completed. CSV file saved as samples_converted_8.csv\n",
      "Conversion for samples (9) completed. CSV file saved as samples_converted_9.csv\n",
      "Conversion for samples (10) completed. CSV file saved as samples_converted_10.csv\n",
      "Conversion for samples (11) completed. CSV file saved as samples_converted_11.csv\n",
      "Conversion for samples (12) completed. CSV file saved as samples_converted_12.csv\n",
      "Conversion for samples (13) completed. CSV file saved as samples_converted_13.csv\n",
      "Conversion for samples (14) completed. CSV file saved as samples_converted_14.csv\n",
      "Conversion for samples (15) completed. CSV file saved as samples_converted_15.csv\n",
      "Conversion for samples (16) completed. CSV file saved as samples_converted_16.csv\n",
      "Conversion for samples (17) completed. CSV file saved as samples_converted_17.csv\n"
     ]
    }
   ],
   "source": [
    "\n",
    "for i in range(1, 18):\n",
    "    # Read the CSV file\n",
    "    file_path = f\"samples ({i}).csv\"\n",
    "    df = pd.read_csv(file_path)\n",
    "\n",
    "    # Drop the first row\n",
    "    # df = df.drop(0)\n",
    "\n",
    "    # Extract the 'ECG1' column as a 1D array\n",
    "    original_array = df[\"signal\"].to_numpy()\n",
    "# len(original_array)\n",
    "    # # Reshape the array into a 1280x6 matrix\n",
    "    reshaped_array = original_array.reshape(6,2500)\n",
    "\n",
    "    # Create a new DataFrame from the reshaped array\n",
    "    df = pd.DataFrame(reshaped_array)\n",
    "\n",
    "    # Specify the CSV file path for the converted data\n",
    "    csv_file_path = f'samples_converted_{i}.csv'\n",
    "\n",
    "    # Write the DataFrame to the CSV file\n",
    "    df.to_csv(csv_file_path, index=False, header=False)\n",
    "\n",
    "    print(f\"Conversion for samples ({i}) completed. CSV file saved as {csv_file_path}\")\n"
   ]
  },
  {
   "cell_type": "code",
   "execution_count": 3,
   "metadata": {},
   "outputs": [
    {
     "name": "stdout",
     "output_type": "stream",
     "text": [
      "Merged data saved as merged_samples.csv\n"
     ]
    }
   ],
   "source": [
    "merged_df = pd.DataFrame()\n",
    "\n",
    "for i in range(1, 18):\n",
    "    # Specify the CSV file path for the converted data\n",
    "    csv_file_path = f'samples_converted_{i}.csv'\n",
    "\n",
    "    # Read the CSV file into a DataFrame\n",
    "    df = pd.read_csv(csv_file_path, header=None)\n",
    "\n",
    "    # Concatenate the DataFrame to the merged DataFrame\n",
    "    merged_df = pd.concat([merged_df, df], ignore_index=True)\n",
    "\n",
    "# Specify the CSV file path for the merged data\n",
    "merged_csv_file_path = 'merged_samples.csv'\n",
    "\n",
    "# Write the merged DataFrame to a new CSV file\n",
    "merged_df.to_csv(merged_csv_file_path, index=False, header=False)\n",
    "\n",
    "print(f\"Merged data saved as {merged_csv_file_path}\")\n"
   ]
  }
 ],
 "metadata": {
  "kernelspec": {
   "display_name": "Python 3",
   "language": "python",
   "name": "python3"
  },
  "language_info": {
   "codemirror_mode": {
    "name": "ipython",
    "version": 3
   },
   "file_extension": ".py",
   "mimetype": "text/x-python",
   "name": "python",
   "nbconvert_exporter": "python",
   "pygments_lexer": "ipython3",
   "version": "3.9.6"
  }
 },
 "nbformat": 4,
 "nbformat_minor": 2
}
