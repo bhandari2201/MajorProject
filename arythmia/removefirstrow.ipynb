{
 "cells": [
  {
   "cell_type": "code",
   "execution_count": 13,
   "metadata": {},
   "outputs": [
    {
     "name": "stdout",
     "output_type": "stream",
     "text": [
      "Removed first row from modified_samples (2).csv and saved to modified_samples (2).csv\n",
      "Removed first row from modified_samples (3).csv and saved to modified_samples (3).csv\n",
      "Removed first row from modified_samples (4).csv and saved to modified_samples (4).csv\n",
      "Removed first row from modified_samples (5).csv and saved to modified_samples (5).csv\n",
      "Removed first row from modified_samples (6).csv and saved to modified_samples (6).csv\n",
      "Removed first row from modified_samples (7).csv and saved to modified_samples (7).csv\n",
      "Removed first row from modified_samples (8).csv and saved to modified_samples (8).csv\n",
      "Removed first row from modified_samples (9).csv and saved to modified_samples (9).csv\n",
      "Removed first row from modified_samples (10).csv and saved to modified_samples (10).csv\n",
      "Removed first row from modified_samples (11).csv and saved to modified_samples (11).csv\n",
      "Removed first row from modified_samples (12).csv and saved to modified_samples (12).csv\n",
      "Removed first row from modified_samples (13).csv and saved to modified_samples (13).csv\n",
      "Removed first row from modified_samples (14).csv and saved to modified_samples (14).csv\n",
      "Removed first row from modified_samples (15).csv and saved to modified_samples (15).csv\n",
      "Removed first row from modified_samples (16).csv and saved to modified_samples (16).csv\n",
      "Removed first row from modified_samples (17).csv and saved to modified_samples (17).csv\n",
      "Removed first row from modified_samples (18).csv and saved to modified_samples (18).csv\n",
      "Removed first row from modified_samples (19).csv and saved to modified_samples (19).csv\n",
      "Removed first row from modified_samples (20).csv and saved to modified_samples (20).csv\n",
      "Removed first row from modified_samples (21).csv and saved to modified_samples (21).csv\n",
      "Removed first row from modified_samples (22).csv and saved to modified_samples (22).csv\n",
      "Removed first row from modified_samples (23).csv and saved to modified_samples (23).csv\n",
      "Removed first row from modified_samples (24).csv and saved to modified_samples (24).csv\n",
      "Removed first row from modified_samples (25).csv and saved to modified_samples (25).csv\n",
      "Removed first row from modified_samples (26).csv and saved to modified_samples (26).csv\n",
      "Removed first row from modified_samples (27).csv and saved to modified_samples (27).csv\n",
      "Removed first row from modified_samples (28).csv and saved to modified_samples (28).csv\n",
      "Removed first row from modified_samples (29).csv and saved to modified_samples (29).csv\n",
      "Removed first row from modified_samples (30).csv and saved to modified_samples (30).csv\n",
      "Removed first row from modified_samples (31).csv and saved to modified_samples (31).csv\n",
      "Removed first row from modified_samples (32).csv and saved to modified_samples (32).csv\n",
      "Removed first row from modified_samples (33).csv and saved to modified_samples (33).csv\n",
      "Removed first row from modified_samples (34).csv and saved to modified_samples (34).csv\n",
      "Removed first row from modified_samples (35).csv and saved to modified_samples (35).csv\n",
      "Removed first row from modified_samples (36).csv and saved to modified_samples (36).csv\n",
      "Removed first row from modified_samples (37).csv and saved to modified_samples (37).csv\n",
      "Removed first row from modified_samples (38).csv and saved to modified_samples (38).csv\n",
      "Removed first row from modified_samples (39).csv and saved to modified_samples (39).csv\n",
      "Removed first row from modified_samples (40).csv and saved to modified_samples (40).csv\n",
      "Removed first row from modified_samples (41).csv and saved to modified_samples (41).csv\n",
      "Removed first row from modified_samples (42).csv and saved to modified_samples (42).csv\n",
      "Removed first row from modified_samples (43).csv and saved to modified_samples (43).csv\n",
      "Removed first row from modified_samples (44).csv and saved to modified_samples (44).csv\n"
     ]
    }
   ],
   "source": [
    "import pandas as pd\n",
    "\n",
    "for i in range(2, 45):\n",
    "    input_file = f'modified_samples ({i}).csv'\n",
    "    output_file = f'modified_samples ({i}).csv'\n",
    "\n",
    "    # Read the CSV file\n",
    "    df = pd.read_csv(input_file)\n",
    "\n",
    "    # Remove the first row\n",
    "    # df = df.iloc[1:]\n",
    "    # Keep only 'ML2' and 'Elapsed time' columns\n",
    "    df = df[[\"'Elapsed time'\",\"'MLII'\"]]\n",
    "    # Save the modified DataFrame to a new CSV file\n",
    "    df = df.rename(columns={\"'MLII'\": 'signal', \"'Elapsed time'\": 'time'})\n",
    "\n",
    "    df.to_csv(output_file, index=False)\n",
    "\n",
    "    print(f'Removed first row from {input_file} and saved to {output_file}')\n"
   ]
  }
 ],
 "metadata": {
  "kernelspec": {
   "display_name": "Python 3",
   "language": "python",
   "name": "python3"
  },
  "language_info": {
   "codemirror_mode": {
    "name": "ipython",
    "version": 3
   },
   "file_extension": ".py",
   "mimetype": "text/x-python",
   "name": "python",
   "nbconvert_exporter": "python",
   "pygments_lexer": "ipython3",
   "version": "3.9.6"
  }
 },
 "nbformat": 4,
 "nbformat_minor": 2
}
