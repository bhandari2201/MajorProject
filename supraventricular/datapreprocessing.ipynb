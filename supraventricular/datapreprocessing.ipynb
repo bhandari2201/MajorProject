{
 "cells": [
  {
   "cell_type": "code",
   "execution_count": 4,
   "metadata": {},
   "outputs": [],
   "source": [
    "import pandas as pd\n",
    "import numpy as np\n"
   ]
  },
  {
   "cell_type": "code",
   "execution_count": 16,
   "metadata": {},
   "outputs": [
    {
     "name": "stdout",
     "output_type": "stream",
     "text": [
      "Conversion for samples (1) completed. CSV file saved as samples_converted_1.csv\n",
      "Conversion for samples (2) completed. CSV file saved as samples_converted_2.csv\n",
      "Conversion for samples (3) completed. CSV file saved as samples_converted_3.csv\n",
      "Conversion for samples (4) completed. CSV file saved as samples_converted_4.csv\n",
      "Conversion for samples (5) completed. CSV file saved as samples_converted_5.csv\n",
      "Conversion for samples (6) completed. CSV file saved as samples_converted_6.csv\n",
      "Conversion for samples (7) completed. CSV file saved as samples_converted_7.csv\n",
      "Conversion for samples (8) completed. CSV file saved as samples_converted_8.csv\n",
      "Conversion for samples (9) completed. CSV file saved as samples_converted_9.csv\n",
      "Conversion for samples (10) completed. CSV file saved as samples_converted_10.csv\n",
      "Conversion for samples (11) completed. CSV file saved as samples_converted_11.csv\n",
      "Conversion for samples (12) completed. CSV file saved as samples_converted_12.csv\n",
      "Conversion for samples (13) completed. CSV file saved as samples_converted_13.csv\n",
      "Conversion for samples (14) completed. CSV file saved as samples_converted_14.csv\n",
      "Conversion for samples (15) completed. CSV file saved as samples_converted_15.csv\n",
      "Conversion for samples (16) completed. CSV file saved as samples_converted_16.csv\n",
      "Conversion for samples (17) completed. CSV file saved as samples_converted_17.csv\n",
      "Conversion for samples (18) completed. CSV file saved as samples_converted_18.csv\n",
      "Conversion for samples (19) completed. CSV file saved as samples_converted_19.csv\n",
      "Conversion for samples (20) completed. CSV file saved as samples_converted_20.csv\n",
      "Conversion for samples (21) completed. CSV file saved as samples_converted_21.csv\n",
      "Conversion for samples (22) completed. CSV file saved as samples_converted_22.csv\n",
      "Conversion for samples (23) completed. CSV file saved as samples_converted_23.csv\n",
      "Conversion for samples (24) completed. CSV file saved as samples_converted_24.csv\n",
      "Conversion for samples (25) completed. CSV file saved as samples_converted_25.csv\n",
      "Conversion for samples (26) completed. CSV file saved as samples_converted_26.csv\n",
      "Conversion for samples (27) completed. CSV file saved as samples_converted_27.csv\n",
      "Conversion for samples (28) completed. CSV file saved as samples_converted_28.csv\n",
      "Conversion for samples (29) completed. CSV file saved as samples_converted_29.csv\n",
      "Conversion for samples (30) completed. CSV file saved as samples_converted_30.csv\n",
      "Conversion for samples (31) completed. CSV file saved as samples_converted_31.csv\n",
      "Conversion for samples (32) completed. CSV file saved as samples_converted_32.csv\n",
      "Conversion for samples (33) completed. CSV file saved as samples_converted_33.csv\n",
      "Conversion for samples (34) completed. CSV file saved as samples_converted_34.csv\n",
      "Conversion for samples (35) completed. CSV file saved as samples_converted_35.csv\n",
      "Conversion for samples (36) completed. CSV file saved as samples_converted_36.csv\n",
      "Conversion for samples (37) completed. CSV file saved as samples_converted_37.csv\n",
      "Conversion for samples (38) completed. CSV file saved as samples_converted_38.csv\n",
      "Conversion for samples (39) completed. CSV file saved as samples_converted_39.csv\n",
      "Conversion for samples (40) completed. CSV file saved as samples_converted_40.csv\n",
      "Conversion for samples (41) completed. CSV file saved as samples_converted_41.csv\n",
      "Conversion for samples (42) completed. CSV file saved as samples_converted_42.csv\n",
      "Conversion for samples (43) completed. CSV file saved as samples_converted_43.csv\n",
      "Conversion for samples (44) completed. CSV file saved as samples_converted_44.csv\n",
      "Conversion for samples (45) completed. CSV file saved as samples_converted_45.csv\n",
      "Conversion for samples (46) completed. CSV file saved as samples_converted_46.csv\n",
      "Conversion for samples (47) completed. CSV file saved as samples_converted_47.csv\n",
      "Conversion for samples (48) completed. CSV file saved as samples_converted_48.csv\n",
      "Conversion for samples (49) completed. CSV file saved as samples_converted_49.csv\n",
      "Conversion for samples (50) completed. CSV file saved as samples_converted_50.csv\n",
      "Conversion for samples (51) completed. CSV file saved as samples_converted_51.csv\n",
      "Conversion for samples (52) completed. CSV file saved as samples_converted_52.csv\n",
      "Conversion for samples (53) completed. CSV file saved as samples_converted_53.csv\n",
      "Conversion for samples (54) completed. CSV file saved as samples_converted_54.csv\n",
      "Conversion for samples (55) completed. CSV file saved as samples_converted_55.csv\n",
      "Conversion for samples (56) completed. CSV file saved as samples_converted_56.csv\n",
      "Conversion for samples (57) completed. CSV file saved as samples_converted_57.csv\n",
      "Conversion for samples (58) completed. CSV file saved as samples_converted_58.csv\n",
      "Conversion for samples (59) completed. CSV file saved as samples_converted_59.csv\n",
      "Conversion for samples (60) completed. CSV file saved as samples_converted_60.csv\n",
      "Conversion for samples (61) completed. CSV file saved as samples_converted_61.csv\n",
      "Conversion for samples (62) completed. CSV file saved as samples_converted_62.csv\n",
      "Conversion for samples (63) completed. CSV file saved as samples_converted_63.csv\n",
      "Conversion for samples (64) completed. CSV file saved as samples_converted_64.csv\n",
      "Conversion for samples (65) completed. CSV file saved as samples_converted_65.csv\n",
      "Conversion for samples (66) completed. CSV file saved as samples_converted_66.csv\n",
      "Conversion for samples (67) completed. CSV file saved as samples_converted_67.csv\n",
      "Conversion for samples (68) completed. CSV file saved as samples_converted_68.csv\n",
      "Conversion for samples (69) completed. CSV file saved as samples_converted_69.csv\n",
      "Conversion for samples (70) completed. CSV file saved as samples_converted_70.csv\n",
      "Conversion for samples (71) completed. CSV file saved as samples_converted_71.csv\n",
      "Conversion for samples (72) completed. CSV file saved as samples_converted_72.csv\n",
      "Conversion for samples (73) completed. CSV file saved as samples_converted_73.csv\n",
      "Conversion for samples (74) completed. CSV file saved as samples_converted_74.csv\n",
      "Conversion for samples (75) completed. CSV file saved as samples_converted_75.csv\n",
      "Conversion for samples (76) completed. CSV file saved as samples_converted_76.csv\n"
     ]
    }
   ],
   "source": [
    "\n",
    "for i in range(1, 77):\n",
    "    # Read the CSV file\n",
    "    file_path = f\"samples ({i}).csv\"\n",
    "    df = pd.read_csv(file_path)\n",
    "\n",
    "    # Drop the first row\n",
    "    df = df.drop(0)\n",
    "\n",
    "    # Extract the 'ECG1' column as a 1D array\n",
    "    original_array = df[\"'ECG1'\"].to_numpy()\n",
    "\n",
    "    # Reshape the array into a 1280x6 matrix\n",
    "    reshaped_array = original_array.reshape(6,1280)\n",
    "\n",
    "    # Create a new DataFrame from the reshaped array\n",
    "    df = pd.DataFrame(reshaped_array)\n",
    "\n",
    "    # Specify the CSV file path for the converted data\n",
    "    csv_file_path = f'samples_converted_{i}.csv'\n",
    "\n",
    "    # Write the DataFrame to the CSV file\n",
    "    df.to_csv(csv_file_path, index=False, header=False)\n",
    "\n",
    "    print(f\"Conversion for samples ({i}) completed. CSV file saved as {csv_file_path}\")\n"
   ]
  },
  {
   "cell_type": "code",
   "execution_count": 17,
   "metadata": {},
   "outputs": [
    {
     "name": "stdout",
     "output_type": "stream",
     "text": [
      "Merged data saved as merged_samples.csv\n"
     ]
    }
   ],
   "source": [
    "merged_df = pd.DataFrame()\n",
    "\n",
    "for i in range(1, 77):\n",
    "    # Specify the CSV file path for the converted data\n",
    "    csv_file_path = f'samples_converted_{i}.csv'\n",
    "\n",
    "    # Read the CSV file into a DataFrame\n",
    "    df = pd.read_csv(csv_file_path, header=None)\n",
    "\n",
    "    # Concatenate the DataFrame to the merged DataFrame\n",
    "    merged_df = pd.concat([merged_df, df], ignore_index=True)\n",
    "\n",
    "# Specify the CSV file path for the merged data\n",
    "merged_csv_file_path = 'merged_samples.csv'\n",
    "\n",
    "# Write the merged DataFrame to a new CSV file\n",
    "merged_df.to_csv(merged_csv_file_path, index=False, header=False)\n",
    "\n",
    "print(f\"Merged data saved as {merged_csv_file_path}\")\n"
   ]
  }
 ],
 "metadata": {
  "kernelspec": {
   "display_name": "Python 3",
   "language": "python",
   "name": "python3"
  },
  "language_info": {
   "codemirror_mode": {
    "name": "ipython",
    "version": 3
   },
   "file_extension": ".py",
   "mimetype": "text/x-python",
   "name": "python",
   "nbconvert_exporter": "python",
   "pygments_lexer": "ipython3",
   "version": "3.9.6"
  }
 },
 "nbformat": 4,
 "nbformat_minor": 2
}
