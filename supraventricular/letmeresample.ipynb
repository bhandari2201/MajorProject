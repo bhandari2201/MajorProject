{
 "cells": [
  {
   "cell_type": "code",
   "execution_count": 1,
   "metadata": {},
   "outputs": [],
   "source": [
    "import pandas as pd\n",
    "from scipy.interpolate import interp1d\n",
    "import numpy as np\n"
   ]
  },
  {
   "cell_type": "code",
   "execution_count": 2,
   "metadata": {},
   "outputs": [],
   "source": [
    "for i in range(1, 77):\n",
    "    input_file = f'samples ({i}).csv'\n",
    "\n",
    "    df = pd.read_csv(input_file)\n",
    "    time = df[\"time\"]\n",
    "    signal = df[\"signal\"]\n",
    "    old_sampling_rate = 360\n",
    "    new_sampling_rate = 250\n",
    "    new_time = np.arange(time.min(), time.max(), 1/new_sampling_rate)\n",
    "    resampled_signal = interp1d(time, signal, kind='linear')(new_time)\n",
    "    resampled_df = pd.DataFrame({'time': new_time, 'signal': resampled_signal})\n",
    "    resampled_df.to_csv(input_file, index=False)"
   ]
  },
  {
   "cell_type": "code",
   "execution_count": 7,
   "metadata": {},
   "outputs": [
    {
     "name": "stdout",
     "output_type": "stream",
     "text": [
      "File modified_samples (1).csv not found. Skipping...\n",
      "Added row [60, -0.99] to modified_samples (2).csv\n",
      "Added row [60, -0.99] to modified_samples (3).csv\n",
      "Added row [60, -0.99] to modified_samples (4).csv\n",
      "Added row [60, -0.99] to modified_samples (5).csv\n",
      "Added row [60, -0.99] to modified_samples (6).csv\n",
      "Added row [60, -0.99] to modified_samples (7).csv\n",
      "Added row [60, -0.99] to modified_samples (8).csv\n",
      "Added row [60, -0.99] to modified_samples (9).csv\n",
      "Added row [60, -0.99] to modified_samples (10).csv\n",
      "Added row [60, -0.99] to modified_samples (11).csv\n",
      "Added row [60, -0.99] to modified_samples (12).csv\n",
      "Added row [60, -0.99] to modified_samples (13).csv\n",
      "Added row [60, -0.99] to modified_samples (14).csv\n",
      "Added row [60, -0.99] to modified_samples (15).csv\n",
      "Added row [60, -0.99] to modified_samples (16).csv\n",
      "Added row [60, -0.99] to modified_samples (17).csv\n",
      "Added row [60, -0.99] to modified_samples (18).csv\n",
      "Added row [60, -0.99] to modified_samples (19).csv\n",
      "Added row [60, -0.99] to modified_samples (20).csv\n",
      "Added row [60, -0.99] to modified_samples (21).csv\n",
      "Added row [60, -0.99] to modified_samples (22).csv\n",
      "Added row [60, -0.99] to modified_samples (23).csv\n",
      "Added row [60, -0.99] to modified_samples (24).csv\n",
      "Added row [60, -0.99] to modified_samples (25).csv\n",
      "Added row [60, -0.99] to modified_samples (26).csv\n",
      "Added row [60, -0.99] to modified_samples (27).csv\n",
      "Added row [60, -0.99] to modified_samples (28).csv\n",
      "Added row [60, -0.99] to modified_samples (29).csv\n",
      "Added row [60, -0.99] to modified_samples (30).csv\n",
      "Added row [60, -0.99] to modified_samples (31).csv\n",
      "Added row [60, -0.99] to modified_samples (32).csv\n",
      "Added row [60, -0.99] to modified_samples (33).csv\n",
      "Added row [60, -0.99] to modified_samples (34).csv\n",
      "Added row [60, -0.99] to modified_samples (35).csv\n",
      "Added row [60, -0.99] to modified_samples (36).csv\n",
      "Added row [60, -0.99] to modified_samples (37).csv\n",
      "Added row [60, -0.99] to modified_samples (38).csv\n",
      "Added row [60, -0.99] to modified_samples (39).csv\n",
      "Added row [60, -0.99] to modified_samples (40).csv\n",
      "Added row [60, -0.99] to modified_samples (41).csv\n",
      "Added row [60, -0.99] to modified_samples (42).csv\n",
      "Added row [60, -0.99] to modified_samples (43).csv\n",
      "Added row [60, -0.99] to modified_samples (44).csv\n",
      "File modified_samples (45).csv not found. Skipping...\n",
      "File modified_samples (46).csv not found. Skipping...\n",
      "File modified_samples (47).csv not found. Skipping...\n",
      "File modified_samples (48).csv not found. Skipping...\n",
      "File modified_samples (49).csv not found. Skipping...\n",
      "File modified_samples (50).csv not found. Skipping...\n"
     ]
    }
   ],
   "source": [
    "import csv\n",
    "import os\n",
    "\n",
    "def add_row_to_csv(csv_file, new_row):\n",
    "    # Read existing data from the CSV file\n",
    "    with open(csv_file, 'r') as file:\n",
    "        reader = csv.reader(file)\n",
    "        data = list(reader)\n",
    "\n",
    "    # Add the new row\n",
    "    data.append(new_row)\n",
    "\n",
    "    # Write the modified data back to the CSV file\n",
    "    with open(csv_file, 'w', newline='') as file:\n",
    "        writer = csv.writer(file)\n",
    "        writer.writerows(data)\n",
    "\n",
    "if __name__ == \"__main__\":\n",
    "    # Specify the new row to be added\n",
    "    new_row = [60, -0.99]\n",
    "\n",
    "    # Iterate through all CSV files with names like \"samples (i).csv\"\n",
    "    for i in range(1, 51):\n",
    "        csv_file = f'modified_samples ({i}).csv'\n",
    "\n",
    "        # Check if the file exists before attempting to add a row\n",
    "        if os.path.exists(csv_file):\n",
    "            add_row_to_csv(csv_file, new_row)\n",
    "            print(f'Added row {new_row} to {csv_file}')\n",
    "        else:\n",
    "            print(f'File {csv_file} not found. Skipping...')\n"
   ]
  }
 ],
 "metadata": {
  "kernelspec": {
   "display_name": "Python 3",
   "language": "python",
   "name": "python3"
  },
  "language_info": {
   "codemirror_mode": {
    "name": "ipython",
    "version": 3
   },
   "file_extension": ".py",
   "mimetype": "text/x-python",
   "name": "python",
   "nbconvert_exporter": "python",
   "pygments_lexer": "ipython3",
   "version": "3.9.6"
  }
 },
 "nbformat": 4,
 "nbformat_minor": 2
}
