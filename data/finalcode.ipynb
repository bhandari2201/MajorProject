{
 "cells": [
  {
   "cell_type": "code",
   "execution_count": 1,
   "metadata": {},
   "outputs": [],
   "source": [
    "import pandas as pd\n",
    "import numpy as np\n",
    "\n",
    "file_path = './arrythmia.csv'\n",
    "df = pd.read_csv(file_path, header=None)\n",
    "\n",
    "def augment_signal(signal):\n",
    "    augmented_signals = [signal + np.random.normal(0, 0.01, len(signal)) for _ in range(4)]\n",
    "    return augmented_signals\n",
    "\n",
    "augmented_data = []\n",
    "for index, row in df.iterrows():\n",
    "    original_signal = row.values.squeeze()\n",
    "    augmented_signals = augment_signal(original_signal)\n",
    "    augmented_data.extend(augmented_signals)\n",
    "\n",
    "augmented_df = pd.DataFrame(augmented_data)\n",
    "\n",
    "augmented_file_path = 'augmented_signals.csv'\n",
    "augmented_df.to_csv(augmented_file_path, index=False, header=False)\n"
   ]
  },
  {
   "cell_type": "markdown",
   "metadata": {},
   "source": [
    "data augmentation using lstm "
   ]
  }
 ],
 "metadata": {
  "kernelspec": {
   "display_name": "Python 3",
   "language": "python",
   "name": "python3"
  },
  "language_info": {
   "codemirror_mode": {
    "name": "ipython",
    "version": 3
   },
   "file_extension": ".py",
   "mimetype": "text/x-python",
   "name": "python",
   "nbconvert_exporter": "python",
   "pygments_lexer": "ipython3",
   "version": "3.9.6"
  }
 },
 "nbformat": 4,
 "nbformat_minor": 2
}
