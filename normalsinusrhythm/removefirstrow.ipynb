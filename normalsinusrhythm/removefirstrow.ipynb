{
 "cells": [
  {
   "cell_type": "code",
   "execution_count": 1,
   "metadata": {},
   "outputs": [
    {
     "name": "stdout",
     "output_type": "stream",
     "text": [
      "Removed first row from samples (1).csv and saved to samples (1).csv\n",
      "Removed first row from samples (2).csv and saved to samples (2).csv\n",
      "Removed first row from samples (3).csv and saved to samples (3).csv\n",
      "Removed first row from samples (4).csv and saved to samples (4).csv\n",
      "Removed first row from samples (5).csv and saved to samples (5).csv\n",
      "Removed first row from samples (6).csv and saved to samples (6).csv\n",
      "Removed first row from samples (7).csv and saved to samples (7).csv\n",
      "Removed first row from samples (8).csv and saved to samples (8).csv\n",
      "Removed first row from samples (9).csv and saved to samples (9).csv\n",
      "Removed first row from samples (10).csv and saved to samples (10).csv\n",
      "Removed first row from samples (11).csv and saved to samples (11).csv\n",
      "Removed first row from samples (12).csv and saved to samples (12).csv\n",
      "Removed first row from samples (13).csv and saved to samples (13).csv\n",
      "Removed first row from samples (14).csv and saved to samples (14).csv\n",
      "Removed first row from samples (15).csv and saved to samples (15).csv\n",
      "Removed first row from samples (16).csv and saved to samples (16).csv\n",
      "Removed first row from samples (17).csv and saved to samples (17).csv\n",
      "Removed first row from samples (18).csv and saved to samples (18).csv\n"
     ]
    }
   ],
   "source": [
    "import pandas as pd\n",
    "\n",
    "for i in range(1, 19):\n",
    "    input_file = f'samples ({i}).csv'\n",
    "    output_file = f'samples ({i}).csv'\n",
    "\n",
    "    # Read the CSV file\n",
    "    df = pd.read_csv(input_file)\n",
    "\n",
    "    # Remove the first row\n",
    "    df = df.iloc[1:]\n",
    "    # Keep only 'ML2' and 'Elapsed time' columns\n",
    "    df = df[[\"'Elapsed time'\",\"'ECG1'\"]]\n",
    "    # Save the modified DataFrame to a new CSV file\n",
    "    df = df.rename(columns={\"'ECG1'\": 'signal', \"'Elapsed time'\": 'time'})\n",
    "\n",
    "    df.to_csv(output_file, index=False)\n",
    "\n",
    "    print(f'Removed first row from {input_file} and saved to {output_file}')\n"
   ]
  }
 ],
 "metadata": {
  "kernelspec": {
   "display_name": "Python 3",
   "language": "python",
   "name": "python3"
  },
  "language_info": {
   "codemirror_mode": {
    "name": "ipython",
    "version": 3
   },
   "file_extension": ".py",
   "mimetype": "text/x-python",
   "name": "python",
   "nbconvert_exporter": "python",
   "pygments_lexer": "ipython3",
   "version": "3.9.6"
  }
 },
 "nbformat": 4,
 "nbformat_minor": 2
}
