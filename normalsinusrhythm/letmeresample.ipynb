{
 "cells": [
  {
   "cell_type": "code",
   "execution_count": 3,
   "metadata": {},
   "outputs": [],
   "source": [
    "import pandas as pd\n",
    "from scipy.interpolate import interp1d\n",
    "import numpy as np\n"
   ]
  },
  {
   "cell_type": "code",
   "execution_count": 4,
   "metadata": {},
   "outputs": [],
   "source": [
    "for i in range(1, 19):\n",
    "    input_file = f'samples ({i}).csv'\n",
    "\n",
    "    df = pd.read_csv(input_file)\n",
    "    time = df[\"time\"]\n",
    "    signal = df[\"signal\"]\n",
    "    old_sampling_rate = 125\n",
    "    new_sampling_rate = 250\n",
    "    new_time = np.arange(time.min(), time.max(), 1/new_sampling_rate)\n",
    "    resampled_signal = interp1d(time, signal, kind='linear')(new_time)\n",
    "    resampled_df = pd.DataFrame({'time': new_time, 'signal': resampled_signal})\n",
    "    resampled_df.to_csv('mmm'+input_file, index=False)"
   ]
  },
  {
   "cell_type": "code",
   "execution_count": 2,
   "metadata": {},
   "outputs": [
    {
     "name": "stdout",
     "output_type": "stream",
     "text": [
      "Added row [60, -0.8] to mmmsamples (1).csv\n",
      "Added row [60, -0.8] to mmmsamples (2).csv\n",
      "Added row [60, -0.8] to mmmsamples (3).csv\n",
      "Added row [60, -0.8] to mmmsamples (4).csv\n",
      "Added row [60, -0.8] to mmmsamples (5).csv\n",
      "Added row [60, -0.8] to mmmsamples (6).csv\n",
      "Added row [60, -0.8] to mmmsamples (7).csv\n",
      "Added row [60, -0.8] to mmmsamples (8).csv\n",
      "Added row [60, -0.8] to mmmsamples (9).csv\n",
      "Added row [60, -0.8] to mmmsamples (10).csv\n",
      "Added row [60, -0.8] to mmmsamples (11).csv\n",
      "Added row [60, -0.8] to mmmsamples (12).csv\n",
      "Added row [60, -0.8] to mmmsamples (13).csv\n",
      "Added row [60, -0.8] to mmmsamples (14).csv\n",
      "Added row [60, -0.8] to mmmsamples (15).csv\n",
      "Added row [60, -0.8] to mmmsamples (16).csv\n",
      "Added row [60, -0.8] to mmmsamples (17).csv\n",
      "Added row [60, -0.8] to mmmsamples (18).csv\n"
     ]
    }
   ],
   "source": [
    "import csv\n",
    "import os\n",
    "\n",
    "def add_row_to_csv(csv_file, new_row):\n",
    "    # Read existing data from the CSV file\n",
    "    with open(csv_file, 'r') as file:\n",
    "        reader = csv.reader(file)\n",
    "        data = list(reader)\n",
    "\n",
    "    # Add the new row\n",
    "    data.append(new_row)\n",
    "\n",
    "    # Write the modified data back to the CSV file\n",
    "    with open(csv_file, 'w', newline='') as file:\n",
    "        writer = csv.writer(file)\n",
    "        writer.writerows(data)\n",
    "\n",
    "if __name__ == \"__main__\":\n",
    "    # Specify the new row to be added\n",
    "    new_row = [60, -0.8]\n",
    "\n",
    "    # Iterate through all CSV files with names like \"samples (i).csv\"\n",
    "    for i in range(1, 19):\n",
    "        csv_file = f'mmmsamples ({i}).csv'\n",
    "\n",
    "        # Check if the file exists before attempting to add a row\n",
    "        if os.path.exists(csv_file):\n",
    "            add_row_to_csv(csv_file, new_row)\n",
    "            print(f'Added row {new_row} to {csv_file}')\n",
    "        else:\n",
    "            print(f'File {csv_file} not found. Skipping...')\n"
   ]
  }
 ],
 "metadata": {
  "kernelspec": {
   "display_name": "Python 3",
   "language": "python",
   "name": "python3"
  },
  "language_info": {
   "codemirror_mode": {
    "name": "ipython",
    "version": 3
   },
   "file_extension": ".py",
   "mimetype": "text/x-python",
   "name": "python",
   "nbconvert_exporter": "python",
   "pygments_lexer": "ipython3",
   "version": "3.9.6"
  }
 },
 "nbformat": 4,
 "nbformat_minor": 2
}
